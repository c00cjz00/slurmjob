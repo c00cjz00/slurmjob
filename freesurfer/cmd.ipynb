{
 "cells": [
  {
   "cell_type": "code",
   "execution_count": null,
   "id": "fdc9fa8e-ce2e-4c24-ba1d-8998de533864",
   "metadata": {},
   "outputs": [],
   "source": [
    "#!python cmdOne.py ${HOME}/freesurfer/demo3/ /work/c00cjz002/data/Powei20211109/02322379.img"
   ]
  },
  {
   "cell_type": "code",
   "execution_count": null,
   "id": "884d19d2-3eef-4878-91d2-52312fa85d45",
   "metadata": {},
   "outputs": [],
   "source": [
    "!python cmdScan.py ${HOME}/freesurfer/demo/ /work/c00cjz002/data/Powei20211109/ img$"
   ]
  },
  {
   "cell_type": "code",
   "execution_count": null,
   "id": "2c01b6a1-b345-4834-95fd-8b024f2adfcc",
   "metadata": {},
   "outputs": [],
   "source": [
    "## 觀看執行狀況\n",
    "!squeue -u `whoami` | grep \"$jobID\\|JOBID\" "
   ]
  },
  {
   "cell_type": "code",
   "execution_count": null,
   "id": "f49fd12a-dbff-4fd9-83a9-3f9f9d584698",
   "metadata": {},
   "outputs": [],
   "source": [
    "## 刪除JOB\n",
    "!scancel $jobID"
   ]
  },
  {
   "cell_type": "code",
   "execution_count": null,
   "id": "7fb4406c-5b18-4d66-ad34-c0e19a34e0e8",
   "metadata": {},
   "outputs": [],
   "source": [
    "## 全部JOB刪除\n",
    "!squeue -u `whoami` | grep -v JOBID  | awk '{print $1}' | xargs scancel  # 列出 PID 並砍掉 Process"
   ]
  }
 ],
 "metadata": {
  "kernelspec": {
   "display_name": "Python 3 (ipykernel)",
   "language": "python",
   "name": "python3"
  },
  "language_info": {
   "codemirror_mode": {
    "name": "ipython",
    "version": 3
   },
   "file_extension": ".py",
   "mimetype": "text/x-python",
   "name": "python",
   "nbconvert_exporter": "python",
   "pygments_lexer": "ipython3",
   "version": "3.8.12"
  }
 },
 "nbformat": 4,
 "nbformat_minor": 5
}
