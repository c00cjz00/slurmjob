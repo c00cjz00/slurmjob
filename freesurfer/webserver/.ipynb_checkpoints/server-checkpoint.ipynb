{
 "cells": [
  {
   "cell_type": "code",
   "execution_count": 4,
   "id": "ed150f91-2a55-4c66-b405-4ac4ce7aeb07",
   "metadata": {},
   "outputs": [],
   "source": [
    "# 安裝套件\n",
    "!pip install -qq nest-asyncio pyngrok"
   ]
  },
  {
   "cell_type": "code",
   "execution_count": 7,
   "id": "5346546c-dfc9-4101-ae34-e944846d5ab0",
   "metadata": {},
   "outputs": [
    {
     "name": "stdout",
     "output_type": "stream",
     "text": [
      "\n",
      "Usage:\n",
      " kill [options] <pid|name> [...]\n",
      "\n",
      "Options:\n",
      " -a, --all              do not restrict the name-to-pid conversion to processes\n",
      "                        with the same uid as the present process\n",
      " -s, --signal <sig>     send specified signal\n",
      " -q, --queue <sig>      use sigqueue(2) rather than kill(2)\n",
      " -p, --pid              print pids without signaling them\n",
      " -l, --list [=<signal>] list signal names, or convert one to a name\n",
      " -L, --table            list signal names and numbers\n",
      "\n",
      " -h, --help     display this help and exit\n",
      " -V, --version  output version information and exit\n",
      "\n",
      "For more details see kill(1).\n"
     ]
    }
   ],
   "source": [
    "## 刪除ngrok\n",
    "!ps aux | grep `whoami` |grep 'ngrok start'  | awk '{print $2}' | xargs kill -9"
   ]
  },
  {
   "cell_type": "code",
   "execution_count": 6,
   "id": "b3edbc54-1336-4906-a95e-6f3870492e0e",
   "metadata": {},
   "outputs": [
    {
     "name": "stderr",
     "output_type": "stream",
     "text": [
      "t=2021-11-13T21:43:26+0800 lvl=warn msg=\"can't bind default web address, trying alternatives\" obj=web addr=127.0.0.1:4040\n"
     ]
    },
    {
     "name": "stdout",
     "output_type": "stream",
     "text": [
      "Public URL: http://5d2b-203-145-216-54.jp.ngrok.io\n",
      "[Sat Nov 13 21:43:26 2021] PHP 7.4.23 Development Server (http://localhost:13762) started\n",
      "[Sat Nov 13 21:43:29 2021] [::1]:53796 Accepted\n",
      "[Sat Nov 13 21:43:29 2021] [::1]:53796 [200]: (null) /\n",
      "[Sat Nov 13 21:43:29 2021] [::1]:53796 Closing\n",
      "[Sat Nov 13 21:43:29 2021] [::1]:53870 Accepted\n",
      "[Sat Nov 13 21:43:29 2021] [::1]:53870 [200]: (null) /niivue.js\n",
      "[Sat Nov 13 21:43:29 2021] [::1]:53870 Closing\n",
      "[Sat Nov 13 21:43:30 2021] [::1]:54188 Accepted\n",
      "[Sat Nov 13 21:43:30 2021] [::1]:54188 [200]: (null) /02322379.nii\n",
      "[Sat Nov 13 21:43:30 2021] [::1]:54192 Accepted\n",
      "[Sat Nov 13 21:43:30 2021] [::1]:54192 [404]: (null) /favicon.ico - No such file or directory\n",
      "[Sat Nov 13 21:43:30 2021] [::1]:54192 Closing\n",
      "[Sat Nov 13 21:43:30 2021] [::1]:54274 Accepted\n",
      "[Sat Nov 13 21:43:30 2021] [::1]:54274 [200]: (null) /\n",
      "[Sat Nov 13 21:43:30 2021] [::1]:54274 Closing\n",
      "[Sat Nov 13 21:43:31 2021] [::1]:54572 Accepted\n",
      "[Sat Nov 13 21:43:31 2021] [::1]:54572 [200]: (null) /niivue.js\n",
      "[Sat Nov 13 21:43:31 2021] [::1]:54572 Closing\n",
      "[Sat Nov 13 21:43:32 2021] [::1]:54968 Accepted\n",
      "[Sat Nov 13 21:43:32 2021] [::1]:54968 [200]: (null) /02322379.nii\n",
      "[Sat Nov 13 21:43:33 2021] [::1]:54188 Closing\n",
      "[Sat Nov 13 21:43:34 2021] [::1]:54968 Closing\n",
      "^C\n"
     ]
    }
   ],
   "source": [
    "# 服務器\n",
    "## 設定服務 PORT\n",
    "myport=13762\n",
    "\n",
    "## 外部連線\n",
    "import nest_asyncio\n",
    "from pyngrok import ngrok\n",
    "from pyngrok.conf import PyngrokConfig\n",
    "from pyngrok import conf\n",
    "conf.set_default(PyngrokConfig(region=\"jp\", ngrok_path=\"/work/c00cjz002/package/ngrok\"))\n",
    "ngrok_tunnel = ngrok.connect(myport)\n",
    "print('Public URL:', ngrok_tunnel.public_url)\n",
    "nest_asyncio.apply()\n",
    "\n",
    "## 網頁服務器\n",
    "!/work/c00cjz002/pkg/php/php7/bin/php -S localhost:$myport -t ./"
   ]
  }
 ],
 "metadata": {
  "kernelspec": {
   "display_name": "Python 3 (ipykernel)",
   "language": "python",
   "name": "python3"
  },
  "language_info": {
   "codemirror_mode": {
    "name": "ipython",
    "version": 3
   },
   "file_extension": ".py",
   "mimetype": "text/x-python",
   "name": "python",
   "nbconvert_exporter": "python",
   "pygments_lexer": "ipython3",
   "version": "3.8.12"
  }
 },
 "nbformat": 4,
 "nbformat_minor": 5
}
