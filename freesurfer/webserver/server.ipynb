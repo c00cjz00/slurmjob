{
 "cells": [
  {
   "cell_type": "code",
   "execution_count": null,
   "id": "ed150f91-2a55-4c66-b405-4ac4ce7aeb07",
   "metadata": {},
   "outputs": [],
   "source": [
    "# 安裝套件\n",
    "!pip install -qq nest-asyncio pyngrok"
   ]
  },
  {
   "cell_type": "code",
   "execution_count": null,
   "id": "5346546c-dfc9-4101-ae34-e944846d5ab0",
   "metadata": {},
   "outputs": [],
   "source": [
    "## 刪除ngrok\n",
    "!ps aux | grep `whoami` |grep 'ngrok start'  | awk '{print $2}' | xargs kill -9"
   ]
  },
  {
   "cell_type": "code",
   "execution_count": null,
   "id": "b3edbc54-1336-4906-a95e-6f3870492e0e",
   "metadata": {},
   "outputs": [],
   "source": [
    "# 服務器\n",
    "## 設定服務 PORT\n",
    "myport=13762\n",
    "\n",
    "## 外部連線\n",
    "import nest_asyncio\n",
    "from pyngrok import ngrok\n",
    "from pyngrok.conf import PyngrokConfig\n",
    "from pyngrok import conf\n",
    "conf.set_default(PyngrokConfig(region=\"jp\", ngrok_path=\"/work/c00cjz002/package/ngrok\"))\n",
    "ngrok_tunnel = ngrok.connect(myport)\n",
    "print('Public URL:', ngrok_tunnel.public_url)\n",
    "nest_asyncio.apply()\n",
    "\n",
    "## 網頁服務器\n",
    "!/work/c00cjz002/pkg/php/php7/bin/php -S localhost:$myport -t ./"
   ]
  }
 ],
 "metadata": {
  "kernelspec": {
   "display_name": "Python 3 (ipykernel)",
   "language": "python",
   "name": "python3"
  },
  "language_info": {
   "codemirror_mode": {
    "name": "ipython",
    "version": 3
   },
   "file_extension": ".py",
   "mimetype": "text/x-python",
   "name": "python",
   "nbconvert_exporter": "python",
   "pygments_lexer": "ipython3",
   "version": "3.8.12"
  }
 },
 "nbformat": 4,
 "nbformat_minor": 5
}
