{
 "cells": [
  {
   "cell_type": "code",
   "execution_count": null,
   "id": "ed150f91-2a55-4c66-b405-4ac4ce7aeb07",
   "metadata": {},
   "outputs": [],
   "source": [
    "## 下載變更 pip target位置函示庫\n",
    "!wget -q https://raw.githubusercontent.com/c00cjz00/slurmjob/main/imageinit.py -O imageinit.py"
   ]
  },
  {
   "cell_type": "code",
   "execution_count": null,
   "id": "05167281-eafb-4182-9aa2-d0431ea6e37b",
   "metadata": {},
   "outputs": [],
   "source": [
    "## 自動重新載入\n",
    "%load_ext autoreload\n",
    "%reload_ext autoreload\n",
    "%autoreload 2"
   ]
  },
  {
   "cell_type": "code",
   "execution_count": null,
   "id": "c4e36760-293d-4abf-8a7a-76e3a1c11c53",
   "metadata": {},
   "outputs": [],
   "source": [
    "## 設定安裝目錄, 安裝位置為 /work/c00cjz002/myenv_TMP/.package_mycolab_nchc_conda\n",
    "from imageinit import myimage\n",
    "myENV='mycolab'\n",
    "resetPackage=\"\"\n",
    "myimage(myENV,resetPackage)"
   ]
  },
  {
   "cell_type": "code",
   "execution_count": null,
   "id": "c142707e-a1b5-490b-9855-b1756390285d",
   "metadata": {},
   "outputs": [],
   "source": [
    "# 安裝套件\n",
    "!pip uninstall -qq nest-asyncio pyngrok -y\n",
    "# 安裝套件\n",
    "!pip install -qq nest-asyncio pyngrok"
   ]
  },
  {
   "cell_type": "code",
   "execution_count": null,
   "id": "299c5d8b-942b-4bf8-8564-3d0df47f1bc4",
   "metadata": {},
   "outputs": [],
   "source": [
    "# 確認 pyngrok 套件 安裝位置\n",
    "!pip list -v |grep -i pyngrok "
   ]
  },
  {
   "cell_type": "code",
   "execution_count": null,
   "id": "5346546c-dfc9-4101-ae34-e944846d5ab0",
   "metadata": {},
   "outputs": [],
   "source": [
    "## 刪除ngrok\n",
    "!ps aux | grep `whoami` |grep 'ngrok start'  | awk '{print $2}' | xargs kill -9"
   ]
  },
  {
   "cell_type": "code",
   "execution_count": null,
   "id": "b3edbc54-1336-4906-a95e-6f3870492e0e",
   "metadata": {},
   "outputs": [],
   "source": [
    "# 服務器\n",
    "## 設定服務 PORT\n",
    "myport=13762\n",
    "\n",
    "## 外部連線\n",
    "import nest_asyncio\n",
    "from pyngrok import ngrok\n",
    "from pyngrok.conf import PyngrokConfig\n",
    "from pyngrok import conf\n",
    "conf.set_default(PyngrokConfig(region=\"jp\", ngrok_path=\"/work/c00cjz002/package/ngrok\"))\n",
    "ngrok_tunnel = ngrok.connect(myport)\n",
    "print('Public URL:', ngrok_tunnel.public_url)\n",
    "nest_asyncio.apply()\n",
    "\n",
    "## 網頁服務器\n",
    "!/work/c00cjz002/pkg/php/php7/bin/php -S localhost:$myport -t ./"
   ]
  },
  {
   "cell_type": "code",
   "execution_count": null,
   "id": "0910bc43-b7f1-4236-87cb-6671723a50d0",
   "metadata": {},
   "outputs": [],
   "source": []
  }
 ],
 "metadata": {
  "kernelspec": {
   "display_name": "Python 3 (ipykernel)",
   "language": "python",
   "name": "python3"
  },
  "language_info": {
   "codemirror_mode": {
    "name": "ipython",
    "version": 3
   },
   "file_extension": ".py",
   "mimetype": "text/x-python",
   "name": "python",
   "nbconvert_exporter": "python",
   "pygments_lexer": "ipython3",
   "version": "3.8.12"
  }
 },
 "nbformat": 4,
 "nbformat_minor": 5
}
