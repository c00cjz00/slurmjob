{
 "cells": [
  {
   "cell_type": "code",
   "execution_count": 13,
   "id": "8f8111d1-5373-4809-acd8-62a3fea4f118",
   "metadata": {},
   "outputs": [],
   "source": [
    "%%bash\n",
    "# -> 環境變數 1\n",
    "export FREESURFER_HOME=/work/c00cjz002/package/freesurfer711\n",
    "source $FREESURFER_HOME/SetUpFreeSurfer.sh\n",
    "\n",
    "# -> 環境變數 2 (請自行修改)\n",
    "SUBJECTS_DIR=\"${HOME}/freesurfer/demo/\"\n",
    "inputFile=\"/work/c00cjz002/data/Powei20211109/02322379.img\"\n",
    "saveFolder=\"02322379\"\n",
    "\n",
    "# -> 切換目錄\n",
    "export SUBJECTS_DIR=$SUBJECTS_DIR\n",
    "mkdir -p $SUBJECTS_DIR\n",
    "cd $SUBJECTS_DIR\n",
    "\n",
    "# -> 執行程式 \n",
    "echo \"STEP01\"\n",
    "recon-all -s $saveFolder -i $inputFile -all -qcache -parallel -openmp 3\n",
    "echo \"STEP02\"\n",
    "segmentThalamicNuclei.sh $saveFolder $FREESURFER_HOME\n",
    "echo \"STEP02\"\n",
    "segmentHA_T1.sh $saveFolder $FREESURFER_HOME\n",
    "echo \"STEP03\"\n",
    "mri_convert $saveFolder/mri/aparc+aseg.mgz $saveFolder/aparc+aseg.nii --out_orientation LAS\n",
    "echo \"STEP04\"\n",
    "mri_convert $saveFolder/mri/orig.mgz $saveFolder/orig.nii --out_orientation LAS\n",
    "echo \"STEP05\"\n",
    "mri_convert $saveFolder/mri/wmparc.mgz $saveFolder/wmparc.nii --out_orientation LAS\n",
    "echo \"STEP06\"\n",
    "mri_convert $saveFolder/mri/lh.hippoAmygLabels-T1.v21.FSvoxelSpace.mgz $saveFolder/lh.hippoAmygLabels-T1.v21.FSvoxelSpace.nii --out_orientation LAS\n",
    "echo \"STEP07\"\n",
    "mri_convert $saveFolder/mri/lh.hippoAmygLabels-T1.v21.FSvoxelSpace.mgz $saveFolder/rh.hippoAmygLabels-T1.v21.FSvoxelSpace.nii --out_orientation LAS\n",
    "echo \"STEP08\"\n",
    "mri_convert $saveFolder/mri/ThalamicNuclei.v12.T1.FSvoxelSpace.mgz $saveFolder/ThalamicNuclei.v12.T1.FSvoxelSpace.nii --out_orientation LAS\n",
    "echo \"STEP09\"\n",
    "zip -r $saveFolder.zip $saveFolder"
   ]
  }
 ],
 "metadata": {
  "kernelspec": {
   "display_name": "Python 3 (ipykernel)",
   "language": "python",
   "name": "python3"
  },
  "language_info": {
   "codemirror_mode": {
    "name": "ipython",
    "version": 3
   },
   "file_extension": ".py",
   "mimetype": "text/x-python",
   "name": "python",
   "nbconvert_exporter": "python",
   "pygments_lexer": "ipython3",
   "version": "3.8.12"
  }
 },
 "nbformat": 4,
 "nbformat_minor": 5
}
