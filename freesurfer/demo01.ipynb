{
 "cells": [
  {
   "cell_type": "code",
   "execution_count": 13,
   "id": "8f8111d1-5373-4809-acd8-62a3fea4f118",
   "metadata": {},
   "outputs": [],
   "source": [
    "%%bash\n",
    "# -> 環境變數 1\n",
    "export FREESURFER_HOME=/work/c00cjz002/package/freesurfer711\n",
    "source $FREESURFER_HOME/SetUpFreeSurfer.sh\n",
    "\n",
    "# -> 環境變數 2 (請自行修改)\n",
    "SUBJECTS_DIR=\"${HOME}/freesurfer/demo/\"\n",
    "inputFile=\"/work/c00cjz002/data/Powei20211109/02322379.img\"\n",
    "saveFolder=\"02322379\"\n",
    "\n",
    "# -> 切換目錄\n",
    "export SUBJECTS_DIR=$SUBJECTS_DIR\n",
    "mkdir -p $SUBJECTS_DIR\n",
    "cd $SUBJECTS_DIR\n",
    "\n",
    "# -> 執行程式 1 (recon-all )\n",
    "echo \"STEP01\"\n",
    "recon-all -s $saveFolder -i $inputFile -all -qcache -parallel -openmp 3"
   ]
  }
 ],
 "metadata": {
  "kernelspec": {
   "display_name": "Python 3 (ipykernel)",
   "language": "python",
   "name": "python3"
  },
  "language_info": {
   "codemirror_mode": {
    "name": "ipython",
    "version": 3
   },
   "file_extension": ".py",
   "mimetype": "text/x-python",
   "name": "python",
   "nbconvert_exporter": "python",
   "pygments_lexer": "ipython3",
   "version": "3.8.12"
  }
 },
 "nbformat": 4,
 "nbformat_minor": 5
}
