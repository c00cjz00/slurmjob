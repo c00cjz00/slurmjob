{
 "cells": [
  {
   "cell_type": "code",
   "execution_count": 2,
   "id": "8f8111d1-5373-4809-acd8-62a3fea4f118",
   "metadata": {},
   "outputs": [],
   "source": [
    "# https://man.twcc.ai/@TWCC-III-manual/ryyo0tsuu\n",
    "def SLURM(cmd):\n",
    "    ## SLURM 內容, 請修改 ---> Email\n",
    "    SLURM='''#!/work/c00cjz002/binary/bash5.0/bin/bash\n",
    "#SBATCH -A MST109178        # 計畫代號\n",
    "#SBATCH -J CPU_T3_C34       # 工作代號 (標籤, 可自行定義)\n",
    "#SBATCH -p ngs12G           # 工作區塊 \n",
    "#SBATCH -c 3                # 使用的CPU核心數\n",
    "#SBATCH --mem=12g           # 使用的記憶體容量 \n",
    "#SBATCH --mail-user=summerhill001@gmail.com    # 請修改為您的信向\n",
    "#SBATCH --mail-type=BEGIN,END                  # 指定送出email時機 可為NONE, BEGIN, END, FAIL, REQUEUE, ALL\n",
    "#SBATCH -o log/%j.logi      # 執行記錄檔案儲存於log目錄底下\n",
    "'''\n",
    "    myCmd = SLURM + cmd\n",
    "    \n",
    "    ## 儲存上述內容 SLURM.sh\n",
    "    import time\n",
    "    slurm_shell = 'slurm/'+time.strftime(\"%Y-%m-%d_%H-%M-%S\")+'.sh'\n",
    "    \n",
    "    f = open(slurm_shell, \"w\")\n",
    "    f.write(myCmd)\n",
    "    f.close()    \n",
    "\n",
    "    ## 執行SLURM\n",
    "    #!sbatch SLURM.sh\n",
    "    jobID=(subprocess.check_output('sbatch '+slurm_shell+' |awk \\'{print $4}\\'', shell=True,text=True))\n",
    "    return jobID\n",
    "\n",
    "## 建立目錄\n",
    "import subprocess\n",
    "!mkdir -p slurm\n",
    "!mkdir -p log"
   ]
  },
  {
   "cell_type": "code",
   "execution_count": 1,
   "id": "4389382c-05b9-4f74-917c-aefe82f60fbe",
   "metadata": {},
   "outputs": [],
   "source": [
    "def createCMD(SUBJECTS_DIR, inputFile, saveFolder):\n",
    "    cmd='''\n",
    "echo \"這是測試頁面06\"\n",
    "\n",
    "# -> 啟動 jupyter\n",
    "~/.nchc_jupyter/startifdown_jupyterlab.sh >> ~/jupyter.log \n",
    "\n",
    "# -> 環境變數 1\n",
    "export FREESURFER_HOME=/work/c00cjz002/package/freesurfer711\n",
    "source $FREESURFER_HOME/SetUpFreeSurfer.sh\n",
    "\n",
    "# -> 環境變數 2 (請自行修改)\n",
    "SUBJECTS_DIR='''+ SUBJECTS_DIR +''' \n",
    "inputFile='''+ inputFile +''' \n",
    "saveFolder='''+ saveFolder +''' \n",
    "\n",
    "# -> 切換目錄\n",
    "export SUBJECTS_DIR='''+ SUBJECTS_DIR +''' \n",
    "mkdir -p $SUBJECTS_DIR\n",
    "cd $SUBJECTS_DIR\n",
    "\n",
    "# -> 執行程式 1 (recon-all )\n",
    "echo \"STEP01\"\n",
    "recon-all -s $saveFolder -i $inputFile -all -qcache -parallel -openmp 3\n",
    "'''\n",
    "    return cmd"
   ]
  },
  {
   "cell_type": "code",
   "execution_count": 3,
   "id": "1ce6c1f0-99a8-4abd-9f01-754922bebfd4",
   "metadata": {},
   "outputs": [
    {
     "name": "stdout",
     "output_type": "stream",
     "text": [
      "\n",
      "echo \"這是測試頁面05\"\n",
      "\n",
      "# -> 啟動 jupyter\n",
      "~/.nchc_jupyter/startifdown_jupyterlab.sh >> ~/jupyter.log \n",
      "\n",
      "\n",
      "# -> 主要程式\n",
      "export FREESURFER_HOME=/work/c00cjz002/package/freesurfer711\n",
      "source $FREESURFER_HOME/SetUpFreeSurfer.sh\n",
      "export SUBJECTS_DIR=/home/c00cjz002/R2/freesurfer/Cannabis/FS/demo1/ \n",
      "SUBJECTS_DIR=/home/c00cjz002/R2/freesurfer/Cannabis/FS/demo1/ \n",
      "inputFile=/home/c00cjz002/R2/freesurfer/Cannabis/FS/demo1/02322379.img \n",
      "saveFolder=02322379_test \n",
      "cd $SUBJECTS_DIR\n",
      "\n",
      "echo \"STEP01\"\n",
      "recon-all -s $saveFolder -i $inputFile -all -qcache -parallel -openmp 3\n",
      "\n"
     ]
    }
   ],
   "source": [
    "## 指令集\n",
    "import os\n",
    "SUBJECTS_DIR=\"${HOME}/freesurfer/demo/\"\n",
    "inputFile=\"/work/c00cjz002/data/Powei20211109/02322379.img\"\n",
    "saveFolder=os.path.splitext(os.path.basename(inputFile))[0]\n",
    "cmd=createCMD(SUBJECTS_DIR, inputFile, saveFolder)\n",
    "print(cmd)"
   ]
  },
  {
   "cell_type": "code",
   "execution_count": null,
   "id": "a5de9fc4-d92e-4499-8ac0-f0c1f0ec9f15",
   "metadata": {},
   "outputs": [],
   "source": [
    "## 送出工作到計算節點電腦\n",
    "jobID = SLURM(cmd)\n",
    "print(jobID.strip())"
   ]
  },
  {
   "cell_type": "code",
   "execution_count": 13,
   "id": "489dbadd-d983-4ef1-b225-e18da5061765",
   "metadata": {},
   "outputs": [
    {
     "name": "stdout",
     "output_type": "stream",
     "text": [
      "             JOBID PARTITION     NAME     USER ST       TIME  NODES NODELIST(REASON) \n",
      "            239069      ct56 CPU_T3_C c00cjz00  R       0:10      1 cpn3033 \n"
     ]
    }
   ],
   "source": [
    "## 觀看執行狀況\n",
    "!squeue -u `whoami` | grep \"$jobID\\|JOBID\" "
   ]
  },
  {
   "cell_type": "code",
   "execution_count": null,
   "id": "cae3ddd5-b5bc-4136-9293-1685e1db68b7",
   "metadata": {},
   "outputs": [],
   "source": [
    "## 刪除JOB\n",
    "!scancel $jobID"
   ]
  },
  {
   "cell_type": "code",
   "execution_count": 15,
   "id": "4b01e4d4-0b81-49ee-967f-9ffe4996a35d",
   "metadata": {},
   "outputs": [],
   "source": [
    "## 全部JOB刪除\n",
    "!squeue -u `whoami` | grep -v JOBID  | awk '{print $1}' | xargs scancel  # 列出 PID 並砍掉 Process"
   ]
  },
  {
   "cell_type": "code",
   "execution_count": null,
   "id": "c0aebe19-645c-4522-838b-e348f35554b3",
   "metadata": {},
   "outputs": [],
   "source": []
  }
 ],
 "metadata": {
  "kernelspec": {
   "display_name": "Python 3 (ipykernel)",
   "language": "python",
   "name": "python3"
  },
  "language_info": {
   "codemirror_mode": {
    "name": "ipython",
    "version": 3
   },
   "file_extension": ".py",
   "mimetype": "text/x-python",
   "name": "python",
   "nbconvert_exporter": "python",
   "pygments_lexer": "ipython3",
   "version": "3.8.12"
  }
 },
 "nbformat": 4,
 "nbformat_minor": 5
}
