{
 "cells": [
  {
   "cell_type": "code",
   "execution_count": 32,
   "id": "8f8111d1-5373-4809-acd8-62a3fea4f118",
   "metadata": {},
   "outputs": [],
   "source": [
    "# https://man.twcc.ai/@TWCC-III-manual/ryyo0tsuu\n",
    "def SLURM(cmd):\n",
    "    ## SLURM 內容, 請修改 ---> Email\n",
    "    SLURM='''#!/work/c00cjz002/binary/bash5.0/bin/bash\n",
    "#SBATCH -A MST109178        # 計畫代號\n",
    "#SBATCH -J CPU_T3_C34       # 工作代號 (標籤, 可自行定義)\n",
    "#SBATCH -p ngs12G           # 工作區塊 \n",
    "#SBATCH -c 3                # 使用的CPU核心數\n",
    "#SBATCH --mem=12g           # 使用的記憶體容量 \n",
    "#SBATCH --mail-user=summerhill001@gmail.com    # 請修改為您的信向\n",
    "#SBATCH --mail-type=BEGIN,END                  # 指定送出email時機 可為NONE, BEGIN, END, FAIL, REQUEUE, ALL\n",
    "#SBATCH -o log/%j.logi      # 執行記錄檔案儲存於log目錄底下\n",
    "'''\n",
    "    myCmd = SLURM + cmd\n",
    "    \n",
    "    ## 儲存上述內容 SLURM.sh\n",
    "    import time\n",
    "    slurm_shell = 'slurm/'+time.strftime(\"%Y-%m-%d_%H-%M-%S\")+'.sh'\n",
    "    \n",
    "    f = open(slurm_shell, \"w\")\n",
    "    f.write(myCmd)\n",
    "    f.close()    \n",
    "\n",
    "    ## 執行SLURM\n",
    "    #!sbatch SLURM.sh\n",
    "    jobID=(subprocess.check_output('sbatch '+slurm_shell+' |awk \\'{print $4}\\'', shell=True,text=True))\n",
    "    return jobID\n",
    "\n",
    "## 建立目錄\n",
    "import subprocess\n",
    "!mkdir -p slurm\n",
    "!mkdir -p log"
   ]
  },
  {
   "cell_type": "code",
   "execution_count": 33,
   "id": "0f2a3127-b10b-4a7c-84a2-0a7d0af29297",
   "metadata": {},
   "outputs": [
    {
     "name": "stdout",
     "output_type": "stream",
     "text": [
      "239063\n"
     ]
    }
   ],
   "source": [
    "## 指令集\n",
    "cmd='''\n",
    "echo \"這是測試頁面02\"\n",
    "#~/.nchc_jupyter/startifdown_jupyterlab.sh >> ~/jupyter.log \n",
    "sleep 60\n",
    "'''\n",
    "print(cmd)"
   ]
  },
  {
   "cell_type": "code",
   "execution_count": null,
   "id": "0bad2c80-ee6b-4dd1-a105-edd2451c4669",
   "metadata": {},
   "outputs": [],
   "source": [
    "## 送出工作到計算節點電腦\n",
    "jobID = SLURM(cmd)\n",
    "print(jobID.strip())"
   ]
  },
  {
   "cell_type": "code",
   "execution_count": 38,
   "id": "489dbadd-d983-4ef1-b225-e18da5061765",
   "metadata": {},
   "outputs": [
    {
     "name": "stdout",
     "output_type": "stream",
     "text": [
      "             JOBID PARTITION     NAME     USER ST       TIME  NODES NODELIST(REASON) \n",
      "            239063    ngs12G CPU_T3_C c00cjz00 PD       0:00      1 (QOSMinMemory) \n"
     ]
    }
   ],
   "source": [
    "## 觀看執行狀況\n",
    "!squeue -u `whoami` | grep \"$jobID\\|JOBID\" "
   ]
  },
  {
   "cell_type": "code",
   "execution_count": null,
   "id": "cae3ddd5-b5bc-4136-9293-1685e1db68b7",
   "metadata": {},
   "outputs": [],
   "source": [
    "## 刪除JOB\n",
    "!scancel $jobID"
   ]
  },
  {
   "cell_type": "code",
   "execution_count": 39,
   "id": "4b01e4d4-0b81-49ee-967f-9ffe4996a35d",
   "metadata": {},
   "outputs": [],
   "source": [
    "## 全部JOB刪除\n",
    "!squeue -u `whoami` | grep -v JOBID  | awk '{print $1}' | xargs scancel  # 列出 PID 並砍掉 Process"
   ]
  },
  {
   "cell_type": "code",
   "execution_count": null,
   "id": "e8add449-1d0e-403c-9b0b-78cb99311516",
   "metadata": {},
   "outputs": [],
   "source": []
  }
 ],
 "metadata": {
  "kernelspec": {
   "display_name": "Python 3 (ipykernel)",
   "language": "python",
   "name": "python3"
  },
  "language_info": {
   "codemirror_mode": {
    "name": "ipython",
    "version": 3
   },
   "file_extension": ".py",
   "mimetype": "text/x-python",
   "name": "python",
   "nbconvert_exporter": "python",
   "pygments_lexer": "ipython3",
   "version": "3.8.12"
  }
 },
 "nbformat": 4,
 "nbformat_minor": 5
}
