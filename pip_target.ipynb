{
 "cells": [
  {
   "cell_type": "code",
   "execution_count": 1,
   "id": "883eada9-c751-4e80-879a-05a91f264ff0",
   "metadata": {},
   "outputs": [],
   "source": [
    "## 下載變更 pip target位置函示庫\n",
    "!wget -q https://raw.githubusercontent.com/c00cjz00/slurmjob/main/imageinit.py -O imageinit.py"
   ]
  },
  {
   "cell_type": "code",
   "execution_count": 2,
   "id": "04cbbdaa-da41-4061-9150-4ac0400ac678",
   "metadata": {},
   "outputs": [],
   "source": [
    "## 自動重新載入\n",
    "%load_ext autoreload\n",
    "%reload_ext autoreload\n",
    "%autoreload 2"
   ]
  },
  {
   "cell_type": "code",
   "execution_count": 4,
   "id": "606d417c-adee-4c7a-967e-160643113a7a",
   "metadata": {},
   "outputs": [
    {
     "name": "stdout",
     "output_type": "stream",
     "text": [
      "env: PYTHONUSERBASE=/work/c00cjz002/myenv_TMP/.package_mycolab_nchc_conda/envs/mycolab\n",
      "env: PIP_TARGET=/work/c00cjz002/myenv_TMP/.package_mycolab_nchc_conda/envs/mycolab/lib/python3.9/site-packages\n",
      "rm -rf /work/c00cjz002/myenv_TMP/.package_mycolab_nchc_conda\n"
     ]
    }
   ],
   "source": [
    "## 設定安裝目錄, 安裝位置為 /work/c00cjz002/myenv_TMP/.package_mycolab_nchc_conda\n",
    "from imageinit import myimage\n",
    "myENV='mycolab'\n",
    "resetPackage=\"true\"\n",
    "myimage(myENV,resetPackage)"
   ]
  },
  {
   "cell_type": "code",
   "execution_count": 5,
   "id": "079308fd-fcff-4d9a-a8b6-131ca197a404",
   "metadata": {},
   "outputs": [
    {
     "name": "stdout",
     "output_type": "stream",
     "text": [
      "\u001b[33mWARNING: Skipping pillow as it is not installed.\u001b[0m\n",
      "Collecting pillow\n",
      "  Using cached Pillow-8.4.0-cp39-cp39-manylinux_2_17_x86_64.manylinux2014_x86_64.whl (3.1 MB)\n",
      "Installing collected packages: pillow\n",
      "Successfully installed pillow-8.4.0\n"
     ]
    }
   ],
   "source": [
    "# 移除 pillow\n",
    "!pip uninstall pillow  -y\n",
    "# 安裝 pillow\n",
    "!pip install pillow       "
   ]
  },
  {
   "cell_type": "code",
   "execution_count": 7,
   "id": "1541ad50-dd85-4d19-a05f-e797f11d8dd9",
   "metadata": {},
   "outputs": [
    {
     "name": "stdout",
     "output_type": "stream",
     "text": [
      "Pillow                        8.4.0     /work/c00cjz002/myenv_TMP/.package_mycolab_nchc_conda/envs/mycolab/lib/python3.9/site-packages pip\n"
     ]
    }
   ],
   "source": [
    "# 確認 pillow 套件 安裝位置\n",
    "!pip list -v |grep -i pillow "
   ]
  },
  {
   "cell_type": "code",
   "execution_count": null,
   "id": "e94bce17-c0ff-46cb-babd-d68bf714c6ed",
   "metadata": {},
   "outputs": [],
   "source": [
    "# 載入 pillow\n",
    "from PIL import Image"
   ]
  },
  {
   "cell_type": "code",
   "execution_count": null,
   "id": "c195974d-edc8-4c1f-a25b-8e36f14c890b",
   "metadata": {},
   "outputs": [],
   "source": []
  }
 ],
 "metadata": {
  "kernelspec": {
   "display_name": "Image_Python",
   "language": "python",
   "name": "image_python"
  },
  "language_info": {
   "codemirror_mode": {
    "name": "ipython",
    "version": 3
   },
   "file_extension": ".py",
   "mimetype": "text/x-python",
   "name": "python",
   "nbconvert_exporter": "python",
   "pygments_lexer": "ipython3",
   "version": "3.9.6"
  }
 },
 "nbformat": 4,
 "nbformat_minor": 5
}
